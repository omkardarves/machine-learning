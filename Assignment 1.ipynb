{
 "cells": [
  {
   "cell_type": "code",
   "execution_count": 1,
   "metadata": {},
   "outputs": [],
   "source": [
    "import pandas as pd"
   ]
  },
  {
   "cell_type": "code",
   "execution_count": 2,
   "metadata": {
    "scrolled": false
   },
   "outputs": [],
   "source": [
    "df=pd.read_csv('pokemon.csv')"
   ]
  },
  {
   "cell_type": "code",
   "execution_count": 3,
   "metadata": {},
   "outputs": [],
   "source": [
    "a=df.groupby('Type 1')['Speed'].median()"
   ]
  },
  {
   "cell_type": "code",
   "execution_count": 4,
   "metadata": {},
   "outputs": [
    {
     "data": {
      "text/plain": [
       "Type 1\n",
       "Bug          60.0\n",
       "Dark         70.0\n",
       "Dragon       90.0\n",
       "Electric     88.0\n",
       "Fairy        45.0\n",
       "Fighting     60.0\n",
       "Fire         78.5\n",
       "Flying      116.0\n",
       "Ghost        60.5\n",
       "Grass        58.5\n",
       "Ground       65.0\n",
       "Ice          62.0\n",
       "Normal       71.0\n",
       "Poison       62.5\n",
       "Psychic      80.0\n",
       "Rock         50.0\n",
       "Steel        50.0\n",
       "Water        65.0\n",
       "Name: Speed, dtype: float64"
      ]
     },
     "execution_count": 4,
     "metadata": {},
     "output_type": "execute_result"
    }
   ],
   "source": [
    "a"
   ]
  },
  {
   "cell_type": "code",
   "execution_count": 5,
   "metadata": {},
   "outputs": [],
   "source": [
    "ab=a.sort_values(ascending=False)"
   ]
  },
  {
   "cell_type": "code",
   "execution_count": 6,
   "metadata": {},
   "outputs": [
    {
     "data": {
      "text/plain": [
       "Type 1\n",
       "Flying      116.0\n",
       "Dragon       90.0\n",
       "Electric     88.0\n",
       "Psychic      80.0\n",
       "Fire         78.5\n",
       "Normal       71.0\n",
       "Dark         70.0\n",
       "Water        65.0\n",
       "Ground       65.0\n",
       "Poison       62.5\n",
       "Ice          62.0\n",
       "Ghost        60.5\n",
       "Fighting     60.0\n",
       "Bug          60.0\n",
       "Grass        58.5\n",
       "Steel        50.0\n",
       "Rock         50.0\n",
       "Fairy        45.0\n",
       "Name: Speed, dtype: float64"
      ]
     },
     "execution_count": 6,
     "metadata": {},
     "output_type": "execute_result"
    }
   ],
   "source": [
    "ab"
   ]
  },
  {
   "cell_type": "code",
   "execution_count": 7,
   "metadata": {},
   "outputs": [],
   "source": [
    "fastest_type=ab.index[0]"
   ]
  },
  {
   "cell_type": "code",
   "execution_count": 8,
   "metadata": {},
   "outputs": [
    {
     "name": "stdout",
     "output_type": "stream",
     "text": [
      "Flying\n"
     ]
    }
   ],
   "source": [
    "print(fastest_type)"
   ]
  },
  {
   "cell_type": "code",
   "execution_count": null,
   "metadata": {},
   "outputs": [],
   "source": []
  }
 ],
 "metadata": {
  "kernelspec": {
   "display_name": "Python 3",
   "language": "python",
   "name": "python3"
  },
  "language_info": {
   "codemirror_mode": {
    "name": "ipython",
    "version": 3
   },
   "file_extension": ".py",
   "mimetype": "text/x-python",
   "name": "python",
   "nbconvert_exporter": "python",
   "pygments_lexer": "ipython3",
   "version": "3.7.4"
  }
 },
 "nbformat": 4,
 "nbformat_minor": 2
}
